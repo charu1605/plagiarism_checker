{
  "nbformat": 4,
  "nbformat_minor": 0,
  "metadata": {
    "colab": {
      "provenance": [],
      "authorship_tag": "ABX9TyMJMArmf3Qr0VjPOvJLBsCZ",
      "include_colab_link": true
    },
    "kernelspec": {
      "name": "python3",
      "display_name": "Python 3"
    },
    "language_info": {
      "name": "python"
    }
  },
  "cells": [
    {
      "cell_type": "markdown",
      "metadata": {
        "id": "view-in-github",
        "colab_type": "text"
      },
      "source": [
        "<a href=\"https://colab.research.google.com/github/charu1605/plagiarism_checker/blob/main/plagiarism.ipynb\" target=\"_parent\"><img src=\"https://colab.research.google.com/assets/colab-badge.svg\" alt=\"Open In Colab\"/></a>"
      ]
    },
    {
      "cell_type": "code",
      "execution_count": 24,
      "metadata": {
        "id": "cg3I03usEvNy"
      },
      "outputs": [],
      "source": [
        "import pandas as pd\n",
        "from itertools import combinations\n",
        "from sklearn.feature_extraction.text import TfidfVectorizer\n",
        "from sklearn.metrics.pairwise import cosine_similarity"
      ]
    },
    {
      "cell_type": "code",
      "source": [
        "def read_file(filename):\n",
        "    \"\"\"Reads the content of a file and returns it as a string.\"\"\"\n",
        "    with open(filename, 'r', encoding='utf-8') as file:\n",
        "        return file.read()\n"
      ],
      "metadata": {
        "id": "VI0PvfPJzBW_"
      },
      "execution_count": 25,
      "outputs": []
    },
    {
      "cell_type": "code",
      "source": [
        "def check_plagiarism(files, output_csv=\"plagiarism_results.csv\"):\n",
        "    \"\"\"Compares plagiarism between every pair of files and saves the result in a CSV file.\"\"\"\n",
        "    file_contents = [read_file(file) for file in files]  # Read all file contents\n",
        "\n",
        "    vectorizer = TfidfVectorizer()  # Initialize TF-IDF vectorizer\n",
        "    vectors = vectorizer.fit_transform(file_contents)  # Convert text into numerical vectors\n",
        "\n",
        "    similarity_matrix = cosine_similarity(vectors)  # Compute cosine similarity\n",
        "\n",
        "    # Store results in a list of dictionaries\n",
        "    results = []\n",
        "    for (i, j) in combinations(range(len(files)), 2):\n",
        "        similarity_score = similarity_matrix[i, j] * 100  # Convert to percentage\n",
        "        print(f\"Similarity between {files[i]} and {files[j]}: {similarity_score:.2f}%\")\n",
        "\n",
        "        # Append results to the list\n",
        "        results.append({\"File 1\": files[i], \"File 2\": files[j], \"Similarity (%)\": similarity_score})\n",
        "\n",
        "    # Save results to CSV\n",
        "    df = pd.DataFrame(results)\n",
        "    df.to_csv(output_csv, index=False)\n",
        "    print(f\"Results saved to {output_csv}\")\n"
      ],
      "metadata": {
        "id": "WZ9fzTSpzBZa"
      },
      "execution_count": 26,
      "outputs": []
    },
    {
      "cell_type": "code",
      "source": [
        "files = [\"/content/Arthur.txt\", \"/content/Ben.txt\", \"/content/Clark.txt\"]\n",
        "check_plagiarism(files)"
      ],
      "metadata": {
        "colab": {
          "base_uri": "https://localhost:8080/"
        },
        "id": "YocJYhJZzBcR",
        "outputId": "9efb5119-2b4e-416f-d03c-fce023949b0e"
      },
      "execution_count": 27,
      "outputs": [
        {
          "output_type": "stream",
          "name": "stdout",
          "text": [
            "Similarity between /content/Arthur.txt and /content/Ben.txt: 45.95%\n",
            "Similarity between /content/Arthur.txt and /content/Clark.txt: 54.30%\n",
            "Similarity between /content/Ben.txt and /content/Clark.txt: 40.89%\n",
            "Results saved to plagiarism_results.csv\n"
          ]
        }
      ]
    },
    {
      "cell_type": "code",
      "source": [],
      "metadata": {
        "id": "diqYdX65zBeO"
      },
      "execution_count": 27,
      "outputs": []
    }
  ]
}